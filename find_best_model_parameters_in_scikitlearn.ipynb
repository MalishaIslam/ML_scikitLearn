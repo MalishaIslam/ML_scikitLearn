{
 "cells": [
  {
   "cell_type": "code",
   "execution_count": 2,
   "metadata": {},
   "outputs": [],
   "source": [
    "from sklearn.datasets import load_iris"
   ]
  },
  {
   "cell_type": "code",
   "execution_count": 4,
   "metadata": {},
   "outputs": [],
   "source": [
    "iris = load_iris()\n",
    "X = iris.data\n",
    "y = iris.target"
   ]
  },
  {
   "cell_type": "code",
   "execution_count": 14,
   "metadata": {},
   "outputs": [],
   "source": [
    "from sklearn.neighbors import KNeighborsClassifier\n",
    "knn = KNeighborsClassifier()"
   ]
  },
  {
   "cell_type": "markdown",
   "metadata": {},
   "source": [
    "# more efficient parameters tuning using GridSearchCV\n"
   ]
  },
  {
   "cell_type": "markdown",
   "metadata": {},
   "source": [
    "here , parameters for KNN is n_neighbors , weights"
   ]
  },
  {
   "cell_type": "code",
   "execution_count": 18,
   "metadata": {},
   "outputs": [],
   "source": [
    "from sklearn.model_selection import GridSearchCV\n",
    "from sklearn import metrics"
   ]
  },
  {
   "cell_type": "code",
   "execution_count": 10,
   "metadata": {},
   "outputs": [
    {
     "name": "stdout",
     "output_type": "stream",
     "text": [
      "range(1, 31)\n"
     ]
    }
   ],
   "source": [
    "#define parameters value that should be searched\n",
    "k_range = range(1, 31)\n",
    "print(k_range)"
   ]
  },
  {
   "cell_type": "code",
   "execution_count": 19,
   "metadata": {},
   "outputs": [
    {
     "name": "stdout",
     "output_type": "stream",
     "text": [
      "{'n_neighbors': range(1, 31)}\n"
     ]
    }
   ],
   "source": [
    "#create a parameter grid; map the parameters to the value that should be searched\n",
    "param_grid = dict(n_neighbors=k_range)\n",
    "print(param_grid)"
   ]
  },
  {
   "cell_type": "code",
   "execution_count": 20,
   "metadata": {},
   "outputs": [],
   "source": [
    "#instaniate the grid\n",
    "grid = GridSearchCV(knn, param_grid, cv=10, scoring = 'accuracy') "
   ]
  },
  {
   "cell_type": "code",
   "execution_count": 21,
   "metadata": {},
   "outputs": [
    {
     "name": "stdout",
     "output_type": "stream",
     "text": [
      "GridSearchCV(cv=10, estimator=KNeighborsClassifier(),\n",
      "             param_grid={'n_neighbors': range(1, 31)}, scoring='accuracy')\n"
     ]
    }
   ],
   "source": [
    "print(grid)"
   ]
  },
  {
   "cell_type": "code",
   "execution_count": 24,
   "metadata": {},
   "outputs": [
    {
     "data": {
      "text/plain": [
       "GridSearchCV(cv=10, estimator=KNeighborsClassifier(),\n",
       "             param_grid={'n_neighbors': range(1, 31)}, scoring='accuracy')"
      ]
     },
     "execution_count": 24,
     "metadata": {},
     "output_type": "execute_result"
    }
   ],
   "source": [
    "#fit the model\n",
    "grid.fit(X , y)"
   ]
  },
  {
   "cell_type": "code",
   "execution_count": 42,
   "metadata": {},
   "outputs": [
    {
     "data": {
      "text/plain": [
       "{'mean_fit_time': array([0.00240018, 0.00236228, 0.00156283, 0.00156262, 0.00156271,\n",
       "        0.00156257, 0.00156252, 0.        , 0.00120134, 0.00156264,\n",
       "        0.00468805, 0.0027627 , 0.        , 0.        , 0.00468817,\n",
       "        0.0015625 , 0.0012001 , 0.00156291, 0.00312541, 0.00156267,\n",
       "        0.00303051, 0.00039961, 0.0012001 , 0.        , 0.00240018,\n",
       "        0.00240018, 0.00160003, 0.00160174, 0.00160043, 0.0016001 ]),\n",
       " 'std_fit_time': array([0.00195974, 0.00469382, 0.0046885 , 0.00468786, 0.00468814,\n",
       "        0.00468771, 0.00468757, 0.        , 0.00183508, 0.00468793,\n",
       "        0.00716111, 0.00464678, 0.        , 0.        , 0.00716129,\n",
       "        0.0046875 , 0.00183319, 0.00468872, 0.00625081, 0.004688  ,\n",
       "        0.00568396, 0.00119884, 0.00183319, 0.        , 0.00195974,\n",
       "        0.00195974, 0.00195963, 0.00196173, 0.00196012, 0.00195971]),\n",
       " 'mean_score_time': array([0.00840282, 0.00416069, 0.00625021, 0.00312524, 0.00312521,\n",
       "        0.00312574, 0.00312526, 0.00468738, 0.00399113, 0.00336392,\n",
       "        0.00312531, 0.00262406, 0.00468717, 0.00312517, 0.00312417,\n",
       "        0.00336647, 0.00476346, 0.00156286, 0.00312445, 0.00508823,\n",
       "        0.00602059, 0.00600171, 0.00560193, 0.00680172, 0.00480182,\n",
       "        0.00481842, 0.00400136, 0.00640068, 0.00440056, 0.00442145]),\n",
       " 'std_score_time': array([9.37457752e-03, 4.67792798e-03, 7.65491833e-03, 6.25047685e-03,\n",
       "        6.25042920e-03, 6.25147820e-03, 6.25052453e-03, 7.16009245e-03,\n",
       "        4.35842656e-03, 6.17114234e-03, 6.25061989e-03, 1.88992318e-03,\n",
       "        7.15976479e-03, 6.25033403e-03, 6.24833135e-03, 6.75441157e-03,\n",
       "        4.21220557e-03, 4.68857288e-03, 6.24890339e-03, 6.99790580e-03,\n",
       "        6.68465459e-03, 2.00066602e-03, 1.96090158e-03, 1.83242481e-03,\n",
       "        1.60011226e-03, 4.17998441e-03, 3.73709240e-06, 3.20049033e-03,\n",
       "        1.20041491e-03, 2.15097653e-03]),\n",
       " 'param_n_neighbors': masked_array(data=[1, 2, 3, 4, 5, 6, 7, 8, 9, 10, 11, 12, 13, 14, 15, 16,\n",
       "                    17, 18, 19, 20, 21, 22, 23, 24, 25, 26, 27, 28, 29, 30],\n",
       "              mask=[False, False, False, False, False, False, False, False,\n",
       "                    False, False, False, False, False, False, False, False,\n",
       "                    False, False, False, False, False, False, False, False,\n",
       "                    False, False, False, False, False, False],\n",
       "        fill_value='?',\n",
       "             dtype=object),\n",
       " 'params': [{'n_neighbors': 1},\n",
       "  {'n_neighbors': 2},\n",
       "  {'n_neighbors': 3},\n",
       "  {'n_neighbors': 4},\n",
       "  {'n_neighbors': 5},\n",
       "  {'n_neighbors': 6},\n",
       "  {'n_neighbors': 7},\n",
       "  {'n_neighbors': 8},\n",
       "  {'n_neighbors': 9},\n",
       "  {'n_neighbors': 10},\n",
       "  {'n_neighbors': 11},\n",
       "  {'n_neighbors': 12},\n",
       "  {'n_neighbors': 13},\n",
       "  {'n_neighbors': 14},\n",
       "  {'n_neighbors': 15},\n",
       "  {'n_neighbors': 16},\n",
       "  {'n_neighbors': 17},\n",
       "  {'n_neighbors': 18},\n",
       "  {'n_neighbors': 19},\n",
       "  {'n_neighbors': 20},\n",
       "  {'n_neighbors': 21},\n",
       "  {'n_neighbors': 22},\n",
       "  {'n_neighbors': 23},\n",
       "  {'n_neighbors': 24},\n",
       "  {'n_neighbors': 25},\n",
       "  {'n_neighbors': 26},\n",
       "  {'n_neighbors': 27},\n",
       "  {'n_neighbors': 28},\n",
       "  {'n_neighbors': 29},\n",
       "  {'n_neighbors': 30}],\n",
       " 'split0_test_score': array([1.        , 1.        , 1.        , 1.        , 1.        ,\n",
       "        1.        , 1.        , 1.        , 1.        , 1.        ,\n",
       "        1.        , 1.        , 1.        , 1.        , 0.93333333,\n",
       "        1.        , 0.93333333, 1.        , 0.93333333, 1.        ,\n",
       "        0.93333333, 0.93333333, 0.93333333, 0.93333333, 0.93333333,\n",
       "        0.93333333, 0.93333333, 0.93333333, 0.93333333, 0.93333333]),\n",
       " 'split1_test_score': array([0.93333333, 0.93333333, 0.93333333, 0.93333333, 0.93333333,\n",
       "        0.93333333, 0.93333333, 0.93333333, 0.93333333, 0.93333333,\n",
       "        0.93333333, 0.93333333, 0.93333333, 0.93333333, 0.93333333,\n",
       "        0.93333333, 0.93333333, 0.93333333, 0.93333333, 0.93333333,\n",
       "        0.93333333, 0.93333333, 0.93333333, 0.93333333, 0.93333333,\n",
       "        0.93333333, 0.93333333, 0.93333333, 0.93333333, 0.93333333]),\n",
       " 'split2_test_score': array([1., 1., 1., 1., 1., 1., 1., 1., 1., 1., 1., 1., 1., 1., 1., 1., 1.,\n",
       "        1., 1., 1., 1., 1., 1., 1., 1., 1., 1., 1., 1., 1.]),\n",
       " 'split3_test_score': array([0.93333333, 0.93333333, 0.93333333, 0.93333333, 1.        ,\n",
       "        1.        , 1.        , 1.        , 1.        , 1.        ,\n",
       "        1.        , 1.        , 1.        , 1.        , 1.        ,\n",
       "        1.        , 1.        , 1.        , 1.        , 1.        ,\n",
       "        1.        , 1.        , 1.        , 1.        , 1.        ,\n",
       "        1.        , 1.        , 0.93333333, 0.93333333, 0.93333333]),\n",
       " 'split4_test_score': array([0.86666667, 0.86666667, 0.86666667, 0.86666667, 0.86666667,\n",
       "        0.86666667, 0.86666667, 1.        , 1.        , 1.        ,\n",
       "        1.        , 1.        , 1.        , 1.        , 1.        ,\n",
       "        1.        , 1.        , 1.        , 1.        , 1.        ,\n",
       "        0.93333333, 1.        , 1.        , 1.        , 1.        ,\n",
       "        1.        , 1.        , 1.        , 1.        , 1.        ]),\n",
       " 'split5_test_score': array([1.        , 1.        , 1.        , 1.        , 0.93333333,\n",
       "        0.93333333, 0.93333333, 0.86666667, 0.93333333, 0.86666667,\n",
       "        0.86666667, 0.93333333, 0.93333333, 0.86666667, 0.93333333,\n",
       "        0.93333333, 0.93333333, 0.93333333, 0.93333333, 0.93333333,\n",
       "        0.93333333, 0.93333333, 0.93333333, 0.86666667, 0.93333333,\n",
       "        0.86666667, 0.86666667, 0.86666667, 0.86666667, 0.86666667]),\n",
       " 'split6_test_score': array([0.86666667, 0.86666667, 0.93333333, 0.93333333, 0.93333333,\n",
       "        0.93333333, 0.93333333, 0.93333333, 0.93333333, 0.93333333,\n",
       "        0.93333333, 0.93333333, 0.93333333, 0.93333333, 0.93333333,\n",
       "        0.93333333, 0.93333333, 0.93333333, 0.93333333, 0.93333333,\n",
       "        0.93333333, 0.93333333, 0.93333333, 0.93333333, 0.93333333,\n",
       "        0.93333333, 0.93333333, 0.93333333, 0.93333333, 0.93333333]),\n",
       " 'split7_test_score': array([1.        , 0.93333333, 1.        , 1.        , 1.        ,\n",
       "        1.        , 1.        , 0.93333333, 0.93333333, 0.93333333,\n",
       "        0.93333333, 0.93333333, 1.        , 1.        , 1.        ,\n",
       "        0.93333333, 1.        , 1.        , 1.        , 1.        ,\n",
       "        1.        , 0.93333333, 1.        , 0.93333333, 0.93333333,\n",
       "        0.93333333, 1.        , 0.93333333, 0.93333333, 0.93333333]),\n",
       " 'split8_test_score': array([1., 1., 1., 1., 1., 1., 1., 1., 1., 1., 1., 1., 1., 1., 1., 1., 1.,\n",
       "        1., 1., 1., 1., 1., 1., 1., 1., 1., 1., 1., 1., 1.]),\n",
       " 'split9_test_score': array([1., 1., 1., 1., 1., 1., 1., 1., 1., 1., 1., 1., 1., 1., 1., 1., 1.,\n",
       "        1., 1., 1., 1., 1., 1., 1., 1., 1., 1., 1., 1., 1.]),\n",
       " 'mean_test_score': array([0.96      , 0.95333333, 0.96666667, 0.96666667, 0.96666667,\n",
       "        0.96666667, 0.96666667, 0.96666667, 0.97333333, 0.96666667,\n",
       "        0.96666667, 0.97333333, 0.98      , 0.97333333, 0.97333333,\n",
       "        0.97333333, 0.97333333, 0.98      , 0.97333333, 0.98      ,\n",
       "        0.96666667, 0.96666667, 0.97333333, 0.96      , 0.96666667,\n",
       "        0.96      , 0.96666667, 0.95333333, 0.95333333, 0.95333333]),\n",
       " 'std_test_score': array([0.05333333, 0.05206833, 0.04472136, 0.04472136, 0.04472136,\n",
       "        0.04472136, 0.04472136, 0.04472136, 0.03265986, 0.04472136,\n",
       "        0.04472136, 0.03265986, 0.0305505 , 0.04422166, 0.03265986,\n",
       "        0.03265986, 0.03265986, 0.0305505 , 0.03265986, 0.0305505 ,\n",
       "        0.03333333, 0.03333333, 0.03265986, 0.04422166, 0.03333333,\n",
       "        0.04422166, 0.04472136, 0.04268749, 0.04268749, 0.04268749]),\n",
       " 'rank_test_score': array([24, 27, 18, 18, 12, 12, 12, 12,  4, 12, 12,  4,  1,  4,  4,  4,  4,\n",
       "         1,  4,  1, 18, 18,  4, 24, 18, 24, 18, 27, 27, 27], dtype=int32)}"
      ]
     },
     "execution_count": 42,
     "metadata": {},
     "output_type": "execute_result"
    }
   ],
   "source": [
    "#view the complete results\n",
    "grid.cv_results_"
   ]
  },
  {
   "cell_type": "code",
   "execution_count": 49,
   "metadata": {},
   "outputs": [
    {
     "data": {
      "text/html": [
       "<div>\n",
       "<style scoped>\n",
       "    .dataframe tbody tr th:only-of-type {\n",
       "        vertical-align: middle;\n",
       "    }\n",
       "\n",
       "    .dataframe tbody tr th {\n",
       "        vertical-align: top;\n",
       "    }\n",
       "\n",
       "    .dataframe thead th {\n",
       "        text-align: right;\n",
       "    }\n",
       "</style>\n",
       "<table border=\"1\" class=\"dataframe\">\n",
       "  <thead>\n",
       "    <tr style=\"text-align: right;\">\n",
       "      <th></th>\n",
       "      <th>mean_test_score</th>\n",
       "      <th>std_test_score</th>\n",
       "      <th>params</th>\n",
       "    </tr>\n",
       "  </thead>\n",
       "  <tbody>\n",
       "    <tr>\n",
       "      <th>0</th>\n",
       "      <td>0.960000</td>\n",
       "      <td>0.053333</td>\n",
       "      <td>{'n_neighbors': 1}</td>\n",
       "    </tr>\n",
       "    <tr>\n",
       "      <th>1</th>\n",
       "      <td>0.953333</td>\n",
       "      <td>0.052068</td>\n",
       "      <td>{'n_neighbors': 2}</td>\n",
       "    </tr>\n",
       "    <tr>\n",
       "      <th>2</th>\n",
       "      <td>0.966667</td>\n",
       "      <td>0.044721</td>\n",
       "      <td>{'n_neighbors': 3}</td>\n",
       "    </tr>\n",
       "    <tr>\n",
       "      <th>3</th>\n",
       "      <td>0.966667</td>\n",
       "      <td>0.044721</td>\n",
       "      <td>{'n_neighbors': 4}</td>\n",
       "    </tr>\n",
       "    <tr>\n",
       "      <th>4</th>\n",
       "      <td>0.966667</td>\n",
       "      <td>0.044721</td>\n",
       "      <td>{'n_neighbors': 5}</td>\n",
       "    </tr>\n",
       "    <tr>\n",
       "      <th>5</th>\n",
       "      <td>0.966667</td>\n",
       "      <td>0.044721</td>\n",
       "      <td>{'n_neighbors': 6}</td>\n",
       "    </tr>\n",
       "    <tr>\n",
       "      <th>6</th>\n",
       "      <td>0.966667</td>\n",
       "      <td>0.044721</td>\n",
       "      <td>{'n_neighbors': 7}</td>\n",
       "    </tr>\n",
       "    <tr>\n",
       "      <th>7</th>\n",
       "      <td>0.966667</td>\n",
       "      <td>0.044721</td>\n",
       "      <td>{'n_neighbors': 8}</td>\n",
       "    </tr>\n",
       "    <tr>\n",
       "      <th>8</th>\n",
       "      <td>0.973333</td>\n",
       "      <td>0.032660</td>\n",
       "      <td>{'n_neighbors': 9}</td>\n",
       "    </tr>\n",
       "    <tr>\n",
       "      <th>9</th>\n",
       "      <td>0.966667</td>\n",
       "      <td>0.044721</td>\n",
       "      <td>{'n_neighbors': 10}</td>\n",
       "    </tr>\n",
       "    <tr>\n",
       "      <th>10</th>\n",
       "      <td>0.966667</td>\n",
       "      <td>0.044721</td>\n",
       "      <td>{'n_neighbors': 11}</td>\n",
       "    </tr>\n",
       "    <tr>\n",
       "      <th>11</th>\n",
       "      <td>0.973333</td>\n",
       "      <td>0.032660</td>\n",
       "      <td>{'n_neighbors': 12}</td>\n",
       "    </tr>\n",
       "    <tr>\n",
       "      <th>12</th>\n",
       "      <td>0.980000</td>\n",
       "      <td>0.030551</td>\n",
       "      <td>{'n_neighbors': 13}</td>\n",
       "    </tr>\n",
       "    <tr>\n",
       "      <th>13</th>\n",
       "      <td>0.973333</td>\n",
       "      <td>0.044222</td>\n",
       "      <td>{'n_neighbors': 14}</td>\n",
       "    </tr>\n",
       "    <tr>\n",
       "      <th>14</th>\n",
       "      <td>0.973333</td>\n",
       "      <td>0.032660</td>\n",
       "      <td>{'n_neighbors': 15}</td>\n",
       "    </tr>\n",
       "    <tr>\n",
       "      <th>15</th>\n",
       "      <td>0.973333</td>\n",
       "      <td>0.032660</td>\n",
       "      <td>{'n_neighbors': 16}</td>\n",
       "    </tr>\n",
       "    <tr>\n",
       "      <th>16</th>\n",
       "      <td>0.973333</td>\n",
       "      <td>0.032660</td>\n",
       "      <td>{'n_neighbors': 17}</td>\n",
       "    </tr>\n",
       "    <tr>\n",
       "      <th>17</th>\n",
       "      <td>0.980000</td>\n",
       "      <td>0.030551</td>\n",
       "      <td>{'n_neighbors': 18}</td>\n",
       "    </tr>\n",
       "    <tr>\n",
       "      <th>18</th>\n",
       "      <td>0.973333</td>\n",
       "      <td>0.032660</td>\n",
       "      <td>{'n_neighbors': 19}</td>\n",
       "    </tr>\n",
       "    <tr>\n",
       "      <th>19</th>\n",
       "      <td>0.980000</td>\n",
       "      <td>0.030551</td>\n",
       "      <td>{'n_neighbors': 20}</td>\n",
       "    </tr>\n",
       "    <tr>\n",
       "      <th>20</th>\n",
       "      <td>0.966667</td>\n",
       "      <td>0.033333</td>\n",
       "      <td>{'n_neighbors': 21}</td>\n",
       "    </tr>\n",
       "    <tr>\n",
       "      <th>21</th>\n",
       "      <td>0.966667</td>\n",
       "      <td>0.033333</td>\n",
       "      <td>{'n_neighbors': 22}</td>\n",
       "    </tr>\n",
       "    <tr>\n",
       "      <th>22</th>\n",
       "      <td>0.973333</td>\n",
       "      <td>0.032660</td>\n",
       "      <td>{'n_neighbors': 23}</td>\n",
       "    </tr>\n",
       "    <tr>\n",
       "      <th>23</th>\n",
       "      <td>0.960000</td>\n",
       "      <td>0.044222</td>\n",
       "      <td>{'n_neighbors': 24}</td>\n",
       "    </tr>\n",
       "    <tr>\n",
       "      <th>24</th>\n",
       "      <td>0.966667</td>\n",
       "      <td>0.033333</td>\n",
       "      <td>{'n_neighbors': 25}</td>\n",
       "    </tr>\n",
       "    <tr>\n",
       "      <th>25</th>\n",
       "      <td>0.960000</td>\n",
       "      <td>0.044222</td>\n",
       "      <td>{'n_neighbors': 26}</td>\n",
       "    </tr>\n",
       "    <tr>\n",
       "      <th>26</th>\n",
       "      <td>0.966667</td>\n",
       "      <td>0.044721</td>\n",
       "      <td>{'n_neighbors': 27}</td>\n",
       "    </tr>\n",
       "    <tr>\n",
       "      <th>27</th>\n",
       "      <td>0.953333</td>\n",
       "      <td>0.042687</td>\n",
       "      <td>{'n_neighbors': 28}</td>\n",
       "    </tr>\n",
       "    <tr>\n",
       "      <th>28</th>\n",
       "      <td>0.953333</td>\n",
       "      <td>0.042687</td>\n",
       "      <td>{'n_neighbors': 29}</td>\n",
       "    </tr>\n",
       "    <tr>\n",
       "      <th>29</th>\n",
       "      <td>0.953333</td>\n",
       "      <td>0.042687</td>\n",
       "      <td>{'n_neighbors': 30}</td>\n",
       "    </tr>\n",
       "  </tbody>\n",
       "</table>\n",
       "</div>"
      ],
      "text/plain": [
       "    mean_test_score  std_test_score               params\n",
       "0          0.960000        0.053333   {'n_neighbors': 1}\n",
       "1          0.953333        0.052068   {'n_neighbors': 2}\n",
       "2          0.966667        0.044721   {'n_neighbors': 3}\n",
       "3          0.966667        0.044721   {'n_neighbors': 4}\n",
       "4          0.966667        0.044721   {'n_neighbors': 5}\n",
       "5          0.966667        0.044721   {'n_neighbors': 6}\n",
       "6          0.966667        0.044721   {'n_neighbors': 7}\n",
       "7          0.966667        0.044721   {'n_neighbors': 8}\n",
       "8          0.973333        0.032660   {'n_neighbors': 9}\n",
       "9          0.966667        0.044721  {'n_neighbors': 10}\n",
       "10         0.966667        0.044721  {'n_neighbors': 11}\n",
       "11         0.973333        0.032660  {'n_neighbors': 12}\n",
       "12         0.980000        0.030551  {'n_neighbors': 13}\n",
       "13         0.973333        0.044222  {'n_neighbors': 14}\n",
       "14         0.973333        0.032660  {'n_neighbors': 15}\n",
       "15         0.973333        0.032660  {'n_neighbors': 16}\n",
       "16         0.973333        0.032660  {'n_neighbors': 17}\n",
       "17         0.980000        0.030551  {'n_neighbors': 18}\n",
       "18         0.973333        0.032660  {'n_neighbors': 19}\n",
       "19         0.980000        0.030551  {'n_neighbors': 20}\n",
       "20         0.966667        0.033333  {'n_neighbors': 21}\n",
       "21         0.966667        0.033333  {'n_neighbors': 22}\n",
       "22         0.973333        0.032660  {'n_neighbors': 23}\n",
       "23         0.960000        0.044222  {'n_neighbors': 24}\n",
       "24         0.966667        0.033333  {'n_neighbors': 25}\n",
       "25         0.960000        0.044222  {'n_neighbors': 26}\n",
       "26         0.966667        0.044721  {'n_neighbors': 27}\n",
       "27         0.953333        0.042687  {'n_neighbors': 28}\n",
       "28         0.953333        0.042687  {'n_neighbors': 29}\n",
       "29         0.953333        0.042687  {'n_neighbors': 30}"
      ]
     },
     "execution_count": 49,
     "metadata": {},
     "output_type": "execute_result"
    }
   ],
   "source": [
    "# convert the search results into a pandas DataFrame\n",
    "import pandas as pd\n",
    "results = pd.DataFrame(grid.cv_results_)\n",
    "\n",
    "# view the mean and standard deviation of the test scores for each set of parameters\n",
    "results[['mean_test_score', 'std_test_score', 'params' ]]\n",
    "\n",
    "\n",
    "# list all of the mean test scores\n",
    "#results['mean_test_score']"
   ]
  },
  {
   "cell_type": "code",
   "execution_count": 51,
   "metadata": {},
   "outputs": [
    {
     "data": {
      "text/plain": [
       "{'n_neighbors': 1}"
      ]
     },
     "execution_count": 51,
     "metadata": {},
     "output_type": "execute_result"
    }
   ],
   "source": [
    "# examine the results of the first set of parameters\n",
    "results['params'][0]\n"
   ]
  },
  {
   "cell_type": "code",
   "execution_count": 52,
   "metadata": {},
   "outputs": [
    {
     "data": {
      "text/plain": [
       "0.96"
      ]
     },
     "execution_count": 52,
     "metadata": {},
     "output_type": "execute_result"
    }
   ],
   "source": [
    "results['mean_test_score'][0]"
   ]
  },
  {
   "cell_type": "code",
   "execution_count": 53,
   "metadata": {},
   "outputs": [
    {
     "data": {
      "text/plain": [
       "0.05333333333333332"
      ]
     },
     "execution_count": 53,
     "metadata": {},
     "output_type": "execute_result"
    }
   ],
   "source": [
    "\n",
    "results['std_test_score'][0]"
   ]
  },
  {
   "cell_type": "code",
   "execution_count": 55,
   "metadata": {},
   "outputs": [],
   "source": [
    "mean_score = results['mean_test_score']"
   ]
  },
  {
   "cell_type": "code",
   "execution_count": 56,
   "metadata": {},
   "outputs": [
    {
     "name": "stdout",
     "output_type": "stream",
     "text": [
      "0     0.960000\n",
      "1     0.953333\n",
      "2     0.966667\n",
      "3     0.966667\n",
      "4     0.966667\n",
      "5     0.966667\n",
      "6     0.966667\n",
      "7     0.966667\n",
      "8     0.973333\n",
      "9     0.966667\n",
      "10    0.966667\n",
      "11    0.973333\n",
      "12    0.980000\n",
      "13    0.973333\n",
      "14    0.973333\n",
      "15    0.973333\n",
      "16    0.973333\n",
      "17    0.980000\n",
      "18    0.973333\n",
      "19    0.980000\n",
      "20    0.966667\n",
      "21    0.966667\n",
      "22    0.973333\n",
      "23    0.960000\n",
      "24    0.966667\n",
      "25    0.960000\n",
      "26    0.966667\n",
      "27    0.953333\n",
      "28    0.953333\n",
      "29    0.953333\n",
      "Name: mean_test_score, dtype: float64\n"
     ]
    }
   ],
   "source": [
    "print(mean_score)"
   ]
  },
  {
   "cell_type": "code",
   "execution_count": 57,
   "metadata": {},
   "outputs": [
    {
     "data": {
      "text/plain": [
       "Text(0, 0.5, 'accuracy on cross validation test')"
      ]
     },
     "execution_count": 57,
     "metadata": {},
     "output_type": "execute_result"
    },
    {
     "data": {
      "image/png": "[encoded data removed]",
      "text/plain": [
       "<Figure size 432x288 with 1 Axes>"
      ]
     },
     "metadata": {
      "needs_background": "light"
     },
     "output_type": "display_data"
    }
   ],
   "source": [
    "#plot the result\n",
    "import matplotlib.pyplot as plt\n",
    "#%matplotlib inline\n",
    "\n",
    "plt.plot(k_range,mean_score)\n",
    "plt.xlabel('value of k for KNN')\n",
    "plt.ylabel('accuracy on cross validation test')"
   ]
  },
  {
   "cell_type": "code",
   "execution_count": null,
   "metadata": {},
   "outputs": [],
   "source": [
    "#examine best model\n",
    "#grid.best_score_.... are attributes\n",
    "print(grid.best_score_)\n",
    "print(grid.best_params_)\n",
    "print(grid.best_estimator_)"
   ]
  },
  {
   "cell_type": "markdown",
   "metadata": {},
   "source": [
    "# searching multiple parameters simultaneously"
   ]
  },
  {
   "cell_type": "code",
   "execution_count": 61,
   "metadata": {},
   "outputs": [],
   "source": [
    "#define the parameters value that should be searched\n",
    "k_range = range(1,31)\n",
    "weight_options = ['uniform' , 'distance']"
   ]
  },
  {
   "cell_type": "code",
   "execution_count": 62,
   "metadata": {},
   "outputs": [
    {
     "name": "stdout",
     "output_type": "stream",
     "text": [
      "{'n_neighbors': range(1, 31), 'weights': ['uniform', 'distance']}\n"
     ]
    }
   ],
   "source": [
    "param_grid = dict(n_neighbors = k_range, weights = weight_options)\n",
    "print(param_grid)"
   ]
  },
  {
   "cell_type": "code",
   "execution_count": 63,
   "metadata": {},
   "outputs": [
    {
     "data": {
      "text/plain": [
       "GridSearchCV(cv=10, estimator=KNeighborsClassifier(),\n",
       "             param_grid={'n_neighbors': range(1, 31),\n",
       "                         'weights': ['uniform', 'distance']},\n",
       "             scoring='accuracy')"
      ]
     },
     "execution_count": 63,
     "metadata": {},
     "output_type": "execute_result"
    }
   ],
   "source": [
    "#instaniate the grid\n",
    "grid = GridSearchCV(knn, param_grid, cv=10, scoring = 'accuracy') \n",
    "#fit\n",
    "grid.fit(X,y)"
   ]
  },
  {
   "cell_type": "code",
   "execution_count": 64,
   "metadata": {},
   "outputs": [
    {
     "data": {
      "text/plain": [
       "{'mean_fit_time': array([0.00240057, 0.00200052, 0.00200069, 0.        , 0.00156245,\n",
       "        0.00080009, 0.00130987, 0.00196309, 0.00156224, 0.00156322,\n",
       "        0.00286107, 0.00312574, 0.        , 0.        , 0.00479629,\n",
       "        0.00200002, 0.0040025 , 0.00160036, 0.00277662, 0.0008002 ,\n",
       "        0.00039983, 0.00156279, 0.00156271, 0.00156276, 0.00160048,\n",
       "        0.00120075, 0.00120013, 0.00120111, 0.00080097, 0.00160091,\n",
       "        0.00080049, 0.00120037, 0.00043626, 0.00122499, 0.        ,\n",
       "        0.        , 0.00080898, 0.00156281, 0.        , 0.00156274,\n",
       "        0.00156269, 0.00156226, 0.00156295, 0.00123253, 0.        ,\n",
       "        0.0012002 , 0.00156274, 0.00120063, 0.00199981, 0.00165954,\n",
       "        0.00156305, 0.00156307, 0.00240028, 0.00280037, 0.00119989,\n",
       "        0.00159986, 0.00279989, 0.00280051, 0.00080037, 0.00200167]),\n",
       " 'std_fit_time': array([0.00196005, 0.00200052, 0.00200069, 0.        , 0.00468736,\n",
       "        0.00160017, 0.00392962, 0.00470933, 0.00468671, 0.00468965,\n",
       "        0.00492004, 0.00625148, 0.        , 0.        , 0.00465303,\n",
       "        0.00200002, 0.00473504, 0.00196003, 0.00464924, 0.00160041,\n",
       "        0.00119948, 0.00468836, 0.00468814, 0.00468829, 0.00196018,\n",
       "        0.00183417, 0.00183323, 0.00183472, 0.00160193, 0.00196071,\n",
       "        0.00160098, 0.00183359, 0.00119266, 0.00187238, 0.        ,\n",
       "        0.        , 0.00161809, 0.00468843, 0.        , 0.00468822,\n",
       "        0.00468807, 0.00468678, 0.00468886, 0.00188452, 0.        ,\n",
       "        0.00183333, 0.00468822, 0.00183399, 0.00199981, 0.00203886,\n",
       "        0.00468915, 0.00468922, 0.00195982, 0.00594791, 0.00183286,\n",
       "        0.00195942, 0.00359945, 0.00594755, 0.00160074, 0.00200167]),\n",
       " 'mean_score_time': array([0.00800228, 0.00640121, 0.00400095, 0.00204294, 0.00312519,\n",
       "        0.0044246 , 0.00276301, 0.00197794, 0.003125  , 0.00156305,\n",
       "        0.00385747, 0.        , 0.00625043, 0.00551023, 0.00861831,\n",
       "        0.00320039, 0.01000104, 0.00440099, 0.00276263, 0.0047879 ,\n",
       "        0.00432582, 0.00156248, 0.00468774, 0.00156238, 0.00483837,\n",
       "        0.00440078, 0.00480151, 0.00360117, 0.00447581, 0.00240042,\n",
       "        0.00360069, 0.00280054, 0.00445802, 0.00316348, 0.00468776,\n",
       "        0.00156238, 0.00240145, 0.00156305, 0.00312481, 0.00156238,\n",
       "        0.00312533, 0.00312524, 0.00442998, 0.00236363, 0.00468798,\n",
       "        0.00160086, 0.00468845, 0.00240026, 0.00360172, 0.00240016,\n",
       "        0.00468731, 0.00480123, 0.02360635, 0.00320055, 0.00360141,\n",
       "        0.00680163, 0.01040218, 0.00320084, 0.00400136, 0.00280094]),\n",
       " 'std_score_time': array([8.39226116e-03, 4.07943483e-03, 2.89224437e-06, 4.74865260e-03,\n",
       "        6.25038148e-03, 4.21430749e-03, 4.64698304e-03, 4.71532650e-03,\n",
       "        6.25000001e-03, 4.68914509e-03, 2.56717154e-03, 0.00000000e+00,\n",
       "        7.65518185e-03, 7.04561371e-03, 8.21297307e-03, 2.40050975e-03,\n",
       "        4.47339042e-03, 2.15517217e-03, 4.64670259e-03, 3.88036810e-03,\n",
       "        5.91056027e-03, 4.68742847e-03, 7.16063873e-03, 4.68714237e-03,\n",
       "        5.70301971e-03, 2.80086669e-03, 1.60110191e-03, 2.79867624e-03,\n",
       "        2.15058539e-03, 1.95993665e-03, 1.20023211e-03, 1.83338172e-03,\n",
       "        4.68939483e-03, 4.56287717e-03, 7.16067528e-03, 4.68714237e-03,\n",
       "        1.96077460e-03, 4.68914509e-03, 6.24961855e-03, 4.68714237e-03,\n",
       "        6.25066758e-03, 6.25047687e-03, 6.99028565e-03, 4.69600368e-03,\n",
       "        7.16100318e-03, 1.96064757e-03, 7.16173145e-03, 1.95980057e-03,\n",
       "        1.20057403e-03, 1.95972240e-03, 7.15998318e-03, 6.00470448e-03,\n",
       "        3.28205506e-02, 2.40016783e-03, 1.20047005e-03, 5.67157246e-03,\n",
       "        4.07979115e-03, 1.60042219e-03, 1.48682230e-06, 1.83364783e-03]),\n",
       " 'param_n_neighbors': masked_array(data=[1, 1, 2, 2, 3, 3, 4, 4, 5, 5, 6, 6, 7, 7, 8, 8, 9, 9,\n",
       "                    10, 10, 11, 11, 12, 12, 13, 13, 14, 14, 15, 15, 16, 16,\n",
       "                    17, 17, 18, 18, 19, 19, 20, 20, 21, 21, 22, 22, 23, 23,\n",
       "                    24, 24, 25, 25, 26, 26, 27, 27, 28, 28, 29, 29, 30, 30],\n",
       "              mask=[False, False, False, False, False, False, False, False,\n",
       "                    False, False, False, False, False, False, False, False,\n",
       "                    False, False, False, False, False, False, False, False,\n",
       "                    False, False, False, False, False, False, False, False,\n",
       "                    False, False, False, False, False, False, False, False,\n",
       "                    False, False, False, False, False, False, False, False,\n",
       "                    False, False, False, False, False, False, False, False,\n",
       "                    False, False, False, False],\n",
       "        fill_value='?',\n",
       "             dtype=object),\n",
       " 'param_weights': masked_array(data=['uniform', 'distance', 'uniform', 'distance',\n",
       "                    'uniform', 'distance', 'uniform', 'distance',\n",
       "                    'uniform', 'distance', 'uniform', 'distance',\n",
       "                    'uniform', 'distance', 'uniform', 'distance',\n",
       "                    'uniform', 'distance', 'uniform', 'distance',\n",
       "                    'uniform', 'distance', 'uniform', 'distance',\n",
       "                    'uniform', 'distance', 'uniform', 'distance',\n",
       "                    'uniform', 'distance', 'uniform', 'distance',\n",
       "                    'uniform', 'distance', 'uniform', 'distance',\n",
       "                    'uniform', 'distance', 'uniform', 'distance',\n",
       "                    'uniform', 'distance', 'uniform', 'distance',\n",
       "                    'uniform', 'distance', 'uniform', 'distance',\n",
       "                    'uniform', 'distance', 'uniform', 'distance',\n",
       "                    'uniform', 'distance', 'uniform', 'distance',\n",
       "                    'uniform', 'distance', 'uniform', 'distance'],\n",
       "              mask=[False, False, False, False, False, False, False, False,\n",
       "                    False, False, False, False, False, False, False, False,\n",
       "                    False, False, False, False, False, False, False, False,\n",
       "                    False, False, False, False, False, False, False, False,\n",
       "                    False, False, False, False, False, False, False, False,\n",
       "                    False, False, False, False, False, False, False, False,\n",
       "                    False, False, False, False, False, False, False, False,\n",
       "                    False, False, False, False],\n",
       "        fill_value='?',\n",
       "             dtype=object),\n",
       " 'params': [{'n_neighbors': 1, 'weights': 'uniform'},\n",
       "  {'n_neighbors': 1, 'weights': 'distance'},\n",
       "  {'n_neighbors': 2, 'weights': 'uniform'},\n",
       "  {'n_neighbors': 2, 'weights': 'distance'},\n",
       "  {'n_neighbors': 3, 'weights': 'uniform'},\n",
       "  {'n_neighbors': 3, 'weights': 'distance'},\n",
       "  {'n_neighbors': 4, 'weights': 'uniform'},\n",
       "  {'n_neighbors': 4, 'weights': 'distance'},\n",
       "  {'n_neighbors': 5, 'weights': 'uniform'},\n",
       "  {'n_neighbors': 5, 'weights': 'distance'},\n",
       "  {'n_neighbors': 6, 'weights': 'uniform'},\n",
       "  {'n_neighbors': 6, 'weights': 'distance'},\n",
       "  {'n_neighbors': 7, 'weights': 'uniform'},\n",
       "  {'n_neighbors': 7, 'weights': 'distance'},\n",
       "  {'n_neighbors': 8, 'weights': 'uniform'},\n",
       "  {'n_neighbors': 8, 'weights': 'distance'},\n",
       "  {'n_neighbors': 9, 'weights': 'uniform'},\n",
       "  {'n_neighbors': 9, 'weights': 'distance'},\n",
       "  {'n_neighbors': 10, 'weights': 'uniform'},\n",
       "  {'n_neighbors': 10, 'weights': 'distance'},\n",
       "  {'n_neighbors': 11, 'weights': 'uniform'},\n",
       "  {'n_neighbors': 11, 'weights': 'distance'},\n",
       "  {'n_neighbors': 12, 'weights': 'uniform'},\n",
       "  {'n_neighbors': 12, 'weights': 'distance'},\n",
       "  {'n_neighbors': 13, 'weights': 'uniform'},\n",
       "  {'n_neighbors': 13, 'weights': 'distance'},\n",
       "  {'n_neighbors': 14, 'weights': 'uniform'},\n",
       "  {'n_neighbors': 14, 'weights': 'distance'},\n",
       "  {'n_neighbors': 15, 'weights': 'uniform'},\n",
       "  {'n_neighbors': 15, 'weights': 'distance'},\n",
       "  {'n_neighbors': 16, 'weights': 'uniform'},\n",
       "  {'n_neighbors': 16, 'weights': 'distance'},\n",
       "  {'n_neighbors': 17, 'weights': 'uniform'},\n",
       "  {'n_neighbors': 17, 'weights': 'distance'},\n",
       "  {'n_neighbors': 18, 'weights': 'uniform'},\n",
       "  {'n_neighbors': 18, 'weights': 'distance'},\n",
       "  {'n_neighbors': 19, 'weights': 'uniform'},\n",
       "  {'n_neighbors': 19, 'weights': 'distance'},\n",
       "  {'n_neighbors': 20, 'weights': 'uniform'},\n",
       "  {'n_neighbors': 20, 'weights': 'distance'},\n",
       "  {'n_neighbors': 21, 'weights': 'uniform'},\n",
       "  {'n_neighbors': 21, 'weights': 'distance'},\n",
       "  {'n_neighbors': 22, 'weights': 'uniform'},\n",
       "  {'n_neighbors': 22, 'weights': 'distance'},\n",
       "  {'n_neighbors': 23, 'weights': 'uniform'},\n",
       "  {'n_neighbors': 23, 'weights': 'distance'},\n",
       "  {'n_neighbors': 24, 'weights': 'uniform'},\n",
       "  {'n_neighbors': 24, 'weights': 'distance'},\n",
       "  {'n_neighbors': 25, 'weights': 'uniform'},\n",
       "  {'n_neighbors': 25, 'weights': 'distance'},\n",
       "  {'n_neighbors': 26, 'weights': 'uniform'},\n",
       "  {'n_neighbors': 26, 'weights': 'distance'},\n",
       "  {'n_neighbors': 27, 'weights': 'uniform'},\n",
       "  {'n_neighbors': 27, 'weights': 'distance'},\n",
       "  {'n_neighbors': 28, 'weights': 'uniform'},\n",
       "  {'n_neighbors': 28, 'weights': 'distance'},\n",
       "  {'n_neighbors': 29, 'weights': 'uniform'},\n",
       "  {'n_neighbors': 29, 'weights': 'distance'},\n",
       "  {'n_neighbors': 30, 'weights': 'uniform'},\n",
       "  {'n_neighbors': 30, 'weights': 'distance'}],\n",
       " 'split0_test_score': array([1.        , 1.        , 1.        , 1.        , 1.        ,\n",
       "        1.        , 1.        , 1.        , 1.        , 1.        ,\n",
       "        1.        , 1.        , 1.        , 1.        , 1.        ,\n",
       "        1.        , 1.        , 1.        , 1.        , 1.        ,\n",
       "        1.        , 1.        , 1.        , 1.        , 1.        ,\n",
       "        1.        , 1.        , 1.        , 0.93333333, 1.        ,\n",
       "        1.        , 1.        , 0.93333333, 1.        , 1.        ,\n",
       "        1.        , 0.93333333, 1.        , 1.        , 1.        ,\n",
       "        0.93333333, 1.        , 0.93333333, 1.        , 0.93333333,\n",
       "        1.        , 0.93333333, 1.        , 0.93333333, 1.        ,\n",
       "        0.93333333, 1.        , 0.93333333, 1.        , 0.93333333,\n",
       "        1.        , 0.93333333, 1.        , 0.93333333, 1.        ]),\n",
       " 'split1_test_score': array([0.93333333, 0.93333333, 0.93333333, 0.93333333, 0.93333333,\n",
       "        0.93333333, 0.93333333, 0.93333333, 0.93333333, 0.93333333,\n",
       "        0.93333333, 0.93333333, 0.93333333, 0.93333333, 0.93333333,\n",
       "        0.93333333, 0.93333333, 0.93333333, 0.93333333, 0.93333333,\n",
       "        0.93333333, 0.93333333, 0.93333333, 0.93333333, 0.93333333,\n",
       "        0.93333333, 0.93333333, 0.93333333, 0.93333333, 0.93333333,\n",
       "        0.93333333, 0.93333333, 0.93333333, 0.93333333, 0.93333333,\n",
       "        0.93333333, 0.93333333, 0.93333333, 0.93333333, 0.93333333,\n",
       "        0.93333333, 0.93333333, 0.93333333, 0.93333333, 0.93333333,\n",
       "        0.93333333, 0.93333333, 0.93333333, 0.93333333, 0.93333333,\n",
       "        0.93333333, 0.93333333, 0.93333333, 0.93333333, 0.93333333,\n",
       "        0.93333333, 0.93333333, 0.93333333, 0.93333333, 0.93333333]),\n",
       " 'split2_test_score': array([1., 1., 1., 1., 1., 1., 1., 1., 1., 1., 1., 1., 1., 1., 1., 1., 1.,\n",
       "        1., 1., 1., 1., 1., 1., 1., 1., 1., 1., 1., 1., 1., 1., 1., 1., 1.,\n",
       "        1., 1., 1., 1., 1., 1., 1., 1., 1., 1., 1., 1., 1., 1., 1., 1., 1.,\n",
       "        1., 1., 1., 1., 1., 1., 1., 1., 1.]),\n",
       " 'split3_test_score': array([0.93333333, 0.93333333, 0.93333333, 0.93333333, 0.93333333,\n",
       "        0.93333333, 0.93333333, 0.93333333, 1.        , 1.        ,\n",
       "        1.        , 1.        , 1.        , 1.        , 1.        ,\n",
       "        1.        , 1.        , 1.        , 1.        , 1.        ,\n",
       "        1.        , 1.        , 1.        , 1.        , 1.        ,\n",
       "        1.        , 1.        , 1.        , 1.        , 1.        ,\n",
       "        1.        , 1.        , 1.        , 1.        , 1.        ,\n",
       "        1.        , 1.        , 1.        , 1.        , 1.        ,\n",
       "        1.        , 1.        , 1.        , 1.        , 1.        ,\n",
       "        1.        , 1.        , 1.        , 1.        , 1.        ,\n",
       "        1.        , 1.        , 1.        , 1.        , 0.93333333,\n",
       "        1.        , 0.93333333, 0.93333333, 0.93333333, 0.93333333]),\n",
       " 'split4_test_score': array([0.86666667, 0.86666667, 0.86666667, 0.86666667, 0.86666667,\n",
       "        0.86666667, 0.86666667, 0.86666667, 0.86666667, 0.86666667,\n",
       "        0.86666667, 0.86666667, 0.86666667, 0.86666667, 1.        ,\n",
       "        0.86666667, 1.        , 0.93333333, 1.        , 0.93333333,\n",
       "        1.        , 0.93333333, 1.        , 0.86666667, 1.        ,\n",
       "        0.93333333, 1.        , 0.93333333, 1.        , 1.        ,\n",
       "        1.        , 0.93333333, 1.        , 1.        , 1.        ,\n",
       "        0.93333333, 1.        , 1.        , 1.        , 0.86666667,\n",
       "        0.93333333, 0.86666667, 1.        , 0.86666667, 1.        ,\n",
       "        0.93333333, 1.        , 0.93333333, 1.        , 0.93333333,\n",
       "        1.        , 0.86666667, 1.        , 1.        , 1.        ,\n",
       "        0.93333333, 1.        , 1.        , 1.        , 0.93333333]),\n",
       " 'split5_test_score': array([1.        , 1.        , 1.        , 1.        , 1.        ,\n",
       "        1.        , 1.        , 1.        , 0.93333333, 0.93333333,\n",
       "        0.93333333, 0.93333333, 0.93333333, 0.93333333, 0.86666667,\n",
       "        0.93333333, 0.93333333, 0.93333333, 0.86666667, 0.93333333,\n",
       "        0.86666667, 0.93333333, 0.93333333, 1.        , 0.93333333,\n",
       "        0.93333333, 0.86666667, 0.93333333, 0.93333333, 0.93333333,\n",
       "        0.93333333, 0.93333333, 0.93333333, 0.93333333, 0.93333333,\n",
       "        0.93333333, 0.93333333, 0.93333333, 0.93333333, 0.93333333,\n",
       "        0.93333333, 0.93333333, 0.93333333, 0.93333333, 0.93333333,\n",
       "        0.93333333, 0.86666667, 0.93333333, 0.93333333, 0.93333333,\n",
       "        0.86666667, 0.93333333, 0.86666667, 0.93333333, 0.86666667,\n",
       "        0.93333333, 0.86666667, 0.93333333, 0.86666667, 0.93333333]),\n",
       " 'split6_test_score': array([0.86666667, 0.86666667, 0.86666667, 0.86666667, 0.93333333,\n",
       "        0.93333333, 0.93333333, 0.93333333, 0.93333333, 0.93333333,\n",
       "        0.93333333, 0.93333333, 0.93333333, 0.93333333, 0.93333333,\n",
       "        0.93333333, 0.93333333, 0.93333333, 0.93333333, 0.93333333,\n",
       "        0.93333333, 0.93333333, 0.93333333, 0.93333333, 0.93333333,\n",
       "        0.93333333, 0.93333333, 0.93333333, 0.93333333, 0.93333333,\n",
       "        0.93333333, 0.93333333, 0.93333333, 0.93333333, 0.93333333,\n",
       "        0.93333333, 0.93333333, 0.93333333, 0.93333333, 0.93333333,\n",
       "        0.93333333, 0.93333333, 0.93333333, 0.93333333, 0.93333333,\n",
       "        0.93333333, 0.93333333, 0.93333333, 0.93333333, 0.93333333,\n",
       "        0.93333333, 0.93333333, 0.93333333, 0.93333333, 0.93333333,\n",
       "        0.93333333, 0.93333333, 0.93333333, 0.93333333, 0.93333333]),\n",
       " 'split7_test_score': array([1.        , 1.        , 0.93333333, 1.        , 1.        ,\n",
       "        1.        , 1.        , 1.        , 1.        , 1.        ,\n",
       "        1.        , 1.        , 1.        , 1.        , 0.93333333,\n",
       "        1.        , 0.93333333, 1.        , 0.93333333, 1.        ,\n",
       "        0.93333333, 1.        , 0.93333333, 1.        , 1.        ,\n",
       "        1.        , 1.        , 1.        , 1.        , 1.        ,\n",
       "        0.93333333, 1.        , 1.        , 1.        , 1.        ,\n",
       "        1.        , 1.        , 1.        , 1.        , 1.        ,\n",
       "        1.        , 1.        , 0.93333333, 1.        , 1.        ,\n",
       "        1.        , 0.93333333, 1.        , 0.93333333, 1.        ,\n",
       "        0.93333333, 1.        , 1.        , 1.        , 0.93333333,\n",
       "        1.        , 0.93333333, 1.        , 0.93333333, 1.        ]),\n",
       " 'split8_test_score': array([1., 1., 1., 1., 1., 1., 1., 1., 1., 1., 1., 1., 1., 1., 1., 1., 1.,\n",
       "        1., 1., 1., 1., 1., 1., 1., 1., 1., 1., 1., 1., 1., 1., 1., 1., 1.,\n",
       "        1., 1., 1., 1., 1., 1., 1., 1., 1., 1., 1., 1., 1., 1., 1., 1., 1.,\n",
       "        1., 1., 1., 1., 1., 1., 1., 1., 1.]),\n",
       " 'split9_test_score': array([1., 1., 1., 1., 1., 1., 1., 1., 1., 1., 1., 1., 1., 1., 1., 1., 1.,\n",
       "        1., 1., 1., 1., 1., 1., 1., 1., 1., 1., 1., 1., 1., 1., 1., 1., 1.,\n",
       "        1., 1., 1., 1., 1., 1., 1., 1., 1., 1., 1., 1., 1., 1., 1., 1., 1.,\n",
       "        1., 1., 1., 1., 1., 1., 1., 1., 1.]),\n",
       " 'mean_test_score': array([0.96      , 0.96      , 0.95333333, 0.96      , 0.96666667,\n",
       "        0.96666667, 0.96666667, 0.96666667, 0.96666667, 0.96666667,\n",
       "        0.96666667, 0.96666667, 0.96666667, 0.96666667, 0.96666667,\n",
       "        0.96666667, 0.97333333, 0.97333333, 0.96666667, 0.97333333,\n",
       "        0.96666667, 0.97333333, 0.97333333, 0.97333333, 0.98      ,\n",
       "        0.97333333, 0.97333333, 0.97333333, 0.97333333, 0.98      ,\n",
       "        0.97333333, 0.97333333, 0.97333333, 0.98      , 0.98      ,\n",
       "        0.97333333, 0.97333333, 0.98      , 0.98      , 0.96666667,\n",
       "        0.96666667, 0.96666667, 0.96666667, 0.96666667, 0.97333333,\n",
       "        0.97333333, 0.96      , 0.97333333, 0.96666667, 0.97333333,\n",
       "        0.96      , 0.96666667, 0.96666667, 0.98      , 0.95333333,\n",
       "        0.97333333, 0.95333333, 0.97333333, 0.95333333, 0.96666667]),\n",
       " 'std_test_score': array([0.05333333, 0.05333333, 0.05206833, 0.05333333, 0.04472136,\n",
       "        0.04472136, 0.04472136, 0.04472136, 0.04472136, 0.04472136,\n",
       "        0.04472136, 0.04472136, 0.04472136, 0.04472136, 0.04472136,\n",
       "        0.04472136, 0.03265986, 0.03265986, 0.04472136, 0.03265986,\n",
       "        0.04472136, 0.03265986, 0.03265986, 0.04422166, 0.0305505 ,\n",
       "        0.03265986, 0.04422166, 0.03265986, 0.03265986, 0.0305505 ,\n",
       "        0.03265986, 0.03265986, 0.03265986, 0.0305505 , 0.0305505 ,\n",
       "        0.03265986, 0.03265986, 0.0305505 , 0.0305505 , 0.04472136,\n",
       "        0.03333333, 0.04472136, 0.03333333, 0.04472136, 0.03265986,\n",
       "        0.03265986, 0.04422166, 0.03265986, 0.03333333, 0.03265986,\n",
       "        0.04422166, 0.04472136, 0.04472136, 0.0305505 , 0.04268749,\n",
       "        0.03265986, 0.04268749, 0.03265986, 0.04268749, 0.03333333]),\n",
       " 'rank_test_score': array([52, 52, 57, 52, 43, 43, 43, 43, 29, 29, 29, 29, 29, 29, 29, 29,  8,\n",
       "         8, 29,  8, 29,  8,  8,  8,  1,  8,  8,  8,  8,  1,  8,  8,  8,  1,\n",
       "         1,  8,  8,  1,  1, 29, 43, 29, 43, 29,  8,  8, 52,  8, 43,  8, 52,\n",
       "        29, 43,  1, 57,  8, 57,  8, 57, 43], dtype=int32)}"
      ]
     },
     "execution_count": 64,
     "metadata": {},
     "output_type": "execute_result"
    }
   ],
   "source": [
    "grid.cv_results_"
   ]
  },
  {
   "cell_type": "code",
   "execution_count": 65,
   "metadata": {},
   "outputs": [
    {
     "name": "stdout",
     "output_type": "stream",
     "text": [
      "0.9800000000000001\n",
      "{'n_neighbors': 13, 'weights': 'uniform'}\n",
      "KNeighborsClassifier(n_neighbors=13)\n"
     ]
    }
   ],
   "source": [
    "#examine best model\n",
    "print(grid.best_score_)\n",
    "print(grid.best_params_)\n",
    "print(grid.best_estimator_)"
   ]
  },
  {
   "cell_type": "markdown",
   "metadata": {},
   "source": [
    "# Using the best parameters  to make prediction"
   ]
  },
  {
   "cell_type": "code",
   "execution_count": 71,
   "metadata": {},
   "outputs": [
    {
     "name": "stdout",
     "output_type": "stream",
     "text": [
      "[2]\n"
     ]
    }
   ],
   "source": [
    "knn = KNeighborsClassifier(n_neighbors = 13, weights = 'uniform')\n",
    "knn.fit(X,y)\n",
    "knn.predict([[5,5,5,5]])"
   ]
  },
  {
   "cell_type": "code",
   "execution_count": 72,
   "metadata": {},
   "outputs": [
    {
     "data": {
      "text/plain": [
       "array([2])"
      ]
     },
     "execution_count": 72,
     "metadata": {},
     "output_type": "execute_result"
    }
   ],
   "source": [
    "#shortcut: GridSearchCV automatically refits the best model using all of the data\n",
    "grid.fit(X,y)\n",
    "grid.predict([[5,5,5,5]])"
   ]
  },
  {
   "cell_type": "markdown",
   "metadata": {},
   "source": [
    "# Reducing computational expense using RandomizedSearchCV\n",
    "searching many diff params computationally infeasible\n",
    "RandomizedSearchCV searches a subset of the parameters & you control computational budget"
   ]
  },
  {
   "cell_type": "code",
   "execution_count": 73,
   "metadata": {},
   "outputs": [],
   "source": [
    "from sklearn.model_selection import RandomizedSearchCV"
   ]
  },
  {
   "cell_type": "code",
   "execution_count": 74,
   "metadata": {},
   "outputs": [],
   "source": [
    "#specify parameter distributions rather than a parameter grid\n",
    "param_dist = dict(n_neighbors=k_range , weights = weight_options)"
   ]
  },
  {
   "cell_type": "code",
   "execution_count": 75,
   "metadata": {},
   "outputs": [
    {
     "data": {
      "text/plain": [
       "{'mean_fit_time': array([0.00200098, 0.00081277, 0.00281184, 0.00156293, 0.        ,\n",
       "        0.00196242, 0.00156257, 0.        , 0.        , 0.00079999,\n",
       "        0.0015625 , 0.00080869, 0.00156252, 0.        , 0.        ,\n",
       "        0.        , 0.00156341, 0.00156267, 0.002529  , 0.0008003 ]),\n",
       " 'std_fit_time': array([0.00200098, 0.00162579, 0.00478221, 0.00468879, 0.        ,\n",
       "        0.0047061 , 0.00468771, 0.        , 0.        , 0.00159998,\n",
       "        0.0046875 , 0.0016175 , 0.00468757, 0.        , 0.        ,\n",
       "        0.        , 0.00469022, 0.004688  , 0.00516722, 0.0016006 ]),\n",
       " 'mean_score_time': array([0.00520051, 0.0043643 , 0.00438209, 0.00312507, 0.00312507,\n",
       "        0.00179846, 0.00156255, 0.00468781, 0.00312486, 0.00436454,\n",
       "        0.00165074, 0.00240114, 0.00312512, 0.00468767, 0.00312555,\n",
       "        0.00312533, 0.00156243, 0.00156255, 0.00436308, 0.00476353]),\n",
       " 'std_score_time': array([0.00507794, 0.00444967, 0.00514624, 0.00625014, 0.00625014,\n",
       "        0.00225551, 0.00468764, 0.00716075, 0.00624971, 0.0047961 ,\n",
       "        0.00495222, 0.00265562, 0.00625024, 0.00716053, 0.0062511 ,\n",
       "        0.00625067, 0.00468729, 0.00468764, 0.00444771, 0.00682166]),\n",
       " 'param_weights': masked_array(data=['distance', 'uniform', 'uniform', 'uniform', 'uniform',\n",
       "                    'distance', 'distance', 'uniform', 'distance',\n",
       "                    'uniform', 'distance', 'uniform', 'distance',\n",
       "                    'distance', 'uniform', 'uniform', 'uniform',\n",
       "                    'distance', 'distance', 'uniform'],\n",
       "              mask=[False, False, False, False, False, False, False, False,\n",
       "                    False, False, False, False, False, False, False, False,\n",
       "                    False, False, False, False],\n",
       "        fill_value='?',\n",
       "             dtype=object),\n",
       " 'param_n_neighbors': masked_array(data=[16, 22, 18, 27, 29, 10, 22, 14, 12, 15, 11, 23, 2, 9,\n",
       "                    4, 21, 2, 15, 30, 13],\n",
       "              mask=[False, False, False, False, False, False, False, False,\n",
       "                    False, False, False, False, False, False, False, False,\n",
       "                    False, False, False, False],\n",
       "        fill_value='?',\n",
       "             dtype=object),\n",
       " 'params': [{'weights': 'distance', 'n_neighbors': 16},\n",
       "  {'weights': 'uniform', 'n_neighbors': 22},\n",
       "  {'weights': 'uniform', 'n_neighbors': 18},\n",
       "  {'weights': 'uniform', 'n_neighbors': 27},\n",
       "  {'weights': 'uniform', 'n_neighbors': 29},\n",
       "  {'weights': 'distance', 'n_neighbors': 10},\n",
       "  {'weights': 'distance', 'n_neighbors': 22},\n",
       "  {'weights': 'uniform', 'n_neighbors': 14},\n",
       "  {'weights': 'distance', 'n_neighbors': 12},\n",
       "  {'weights': 'uniform', 'n_neighbors': 15},\n",
       "  {'weights': 'distance', 'n_neighbors': 11},\n",
       "  {'weights': 'uniform', 'n_neighbors': 23},\n",
       "  {'weights': 'distance', 'n_neighbors': 2},\n",
       "  {'weights': 'distance', 'n_neighbors': 9},\n",
       "  {'weights': 'uniform', 'n_neighbors': 4},\n",
       "  {'weights': 'uniform', 'n_neighbors': 21},\n",
       "  {'weights': 'uniform', 'n_neighbors': 2},\n",
       "  {'weights': 'distance', 'n_neighbors': 15},\n",
       "  {'weights': 'distance', 'n_neighbors': 30},\n",
       "  {'weights': 'uniform', 'n_neighbors': 13}],\n",
       " 'split0_test_score': array([1.        , 0.93333333, 1.        , 0.93333333, 0.93333333,\n",
       "        1.        , 1.        , 1.        , 1.        , 0.93333333,\n",
       "        1.        , 0.93333333, 1.        , 1.        , 1.        ,\n",
       "        0.93333333, 1.        , 1.        , 1.        , 1.        ]),\n",
       " 'split1_test_score': array([0.93333333, 0.93333333, 0.93333333, 0.93333333, 0.93333333,\n",
       "        0.93333333, 0.93333333, 0.93333333, 0.93333333, 0.93333333,\n",
       "        0.93333333, 0.93333333, 0.93333333, 0.93333333, 0.93333333,\n",
       "        0.93333333, 0.93333333, 0.93333333, 0.93333333, 0.93333333]),\n",
       " 'split2_test_score': array([1., 1., 1., 1., 1., 1., 1., 1., 1., 1., 1., 1., 1., 1., 1., 1., 1.,\n",
       "        1., 1., 1.]),\n",
       " 'split3_test_score': array([1.        , 1.        , 1.        , 1.        , 0.93333333,\n",
       "        1.        , 1.        , 1.        , 1.        , 1.        ,\n",
       "        1.        , 1.        , 0.93333333, 1.        , 0.93333333,\n",
       "        1.        , 0.93333333, 1.        , 0.93333333, 1.        ]),\n",
       " 'split4_test_score': array([0.93333333, 1.        , 1.        , 1.        , 1.        ,\n",
       "        0.93333333, 0.86666667, 1.        , 0.86666667, 1.        ,\n",
       "        0.93333333, 1.        , 0.86666667, 0.93333333, 0.86666667,\n",
       "        0.93333333, 0.86666667, 1.        , 0.93333333, 1.        ]),\n",
       " 'split5_test_score': array([0.93333333, 0.93333333, 0.93333333, 0.86666667, 0.86666667,\n",
       "        0.93333333, 0.93333333, 0.86666667, 1.        , 0.93333333,\n",
       "        0.93333333, 0.93333333, 1.        , 0.93333333, 1.        ,\n",
       "        0.93333333, 1.        , 0.93333333, 0.93333333, 0.93333333]),\n",
       " 'split6_test_score': array([0.93333333, 0.93333333, 0.93333333, 0.93333333, 0.93333333,\n",
       "        0.93333333, 0.93333333, 0.93333333, 0.93333333, 0.93333333,\n",
       "        0.93333333, 0.93333333, 0.86666667, 0.93333333, 0.93333333,\n",
       "        0.93333333, 0.86666667, 0.93333333, 0.93333333, 0.93333333]),\n",
       " 'split7_test_score': array([1.        , 0.93333333, 1.        , 1.        , 0.93333333,\n",
       "        1.        , 1.        , 1.        , 1.        , 1.        ,\n",
       "        1.        , 1.        , 1.        , 1.        , 1.        ,\n",
       "        1.        , 0.93333333, 1.        , 1.        , 1.        ]),\n",
       " 'split8_test_score': array([1., 1., 1., 1., 1., 1., 1., 1., 1., 1., 1., 1., 1., 1., 1., 1., 1.,\n",
       "        1., 1., 1.]),\n",
       " 'split9_test_score': array([1., 1., 1., 1., 1., 1., 1., 1., 1., 1., 1., 1., 1., 1., 1., 1., 1.,\n",
       "        1., 1., 1.]),\n",
       " 'mean_test_score': array([0.97333333, 0.96666667, 0.98      , 0.96666667, 0.95333333,\n",
       "        0.97333333, 0.96666667, 0.97333333, 0.97333333, 0.97333333,\n",
       "        0.97333333, 0.97333333, 0.96      , 0.97333333, 0.96666667,\n",
       "        0.96666667, 0.95333333, 0.98      , 0.96666667, 0.98      ]),\n",
       " 'std_test_score': array([0.03265986, 0.03333333, 0.0305505 , 0.04472136, 0.04268749,\n",
       "        0.03265986, 0.04472136, 0.04422166, 0.04422166, 0.03265986,\n",
       "        0.03265986, 0.03265986, 0.05333333, 0.03265986, 0.04472136,\n",
       "        0.03333333, 0.05206833, 0.0305505 , 0.03333333, 0.0305505 ]),\n",
       " 'rank_test_score': array([ 4, 13,  1, 13, 19,  4, 12,  4,  4,  4,  4,  4, 18,  4, 13, 13, 19,\n",
       "         1, 13,  1], dtype=int32)}"
      ]
     },
     "execution_count": 75,
     "metadata": {},
     "output_type": "execute_result"
    }
   ],
   "source": [
    "rand = RandomizedSearchCV(knn, param_dist, cv=10, scoring='accuracy', n_iter=20, random_state = 5)\n",
    "rand.fit(X,y)\n",
    "rand.cv_results_"
   ]
  },
  {
   "cell_type": "code",
   "execution_count": 76,
   "metadata": {},
   "outputs": [
    {
     "name": "stdout",
     "output_type": "stream",
     "text": [
      "0.9800000000000001\n",
      "{'weights': 'uniform', 'n_neighbors': 18}\n"
     ]
    }
   ],
   "source": [
    "#examine the best model\n",
    "print(rand.best_score_)\n",
    "print(rand.best_params_)"
   ]
  },
  {
   "cell_type": "code",
   "execution_count": 82,
   "metadata": {},
   "outputs": [
    {
     "name": "stdout",
     "output_type": "stream",
     "text": [
      "[0.98, 0.973, 0.98, 0.98, 0.973, 0.98, 0.98, 0.98, 0.973, 0.973, 0.98, 0.98, 0.98, 0.973, 0.973, 0.98, 0.973, 0.98, 0.973, 0.98]\n"
     ]
    }
   ],
   "source": [
    "#run randomized CV for 20 times(with n_iter=10) & store best score\n",
    "best_scores = []\n",
    "for _ in range(20):\n",
    "    rand = RandomizedSearchCV(knn , param_dist, cv=10, scoring='accuracy' , n_iter = 10)\n",
    "    rand.fit(X,y)\n",
    "    best_scores.append(round(rand.best_score_,3))\n",
    "print(best_scores)    "
   ]
  },
  {
   "cell_type": "code",
   "execution_count": null,
   "metadata": {},
   "outputs": [],
   "source": []
  }
 ],
 "metadata": {
  "kernelspec": {
   "display_name": "Python 3",
   "language": "python",
   "name": "python3"
  },
  "language_info": {
   "codemirror_mode": {
    "name": "ipython",
    "version": 3
   },
   "file_extension": ".py",
   "mimetype": "text/x-python",
   "name": "python",
   "nbconvert_exporter": "python",
   "pygments_lexer": "ipython3",
   "version": "3.8.2"
  }
 },
 "nbformat": 4,
 "nbformat_minor": 4
}
